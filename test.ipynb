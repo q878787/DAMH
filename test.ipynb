{
 "cells": [
  {
   "cell_type": "code",
   "execution_count": null,
   "metadata": {
    "colab": {
     "base_uri": "https://localhost:8080/"
    },
    "executionInfo": {
     "elapsed": 5,
     "status": "ok",
     "timestamp": 1640307380124,
     "user": {
      "displayName": "方健炜",
      "photoUrl": "https://lh3.googleusercontent.com/a/default-user=s64",
      "userId": "04074460214244536953"
     },
     "user_tz": -480
    },
    "id": "oB36-5XWFhv6",
    "outputId": "4ec8d5b6-2b90-4d5e-dbaa-83ebc3d1117b"
   },
   "outputs": [
    {
     "name": "stdout",
     "output_type": "stream",
     "text": [
      "/content/drive/MyDrive/DAMH\n"
     ]
    }
   ],
   "source": [
    "%cd /content/drive/MyDrive/DAMH/"
   ]
  },
  {
   "cell_type": "code",
   "execution_count": null,
   "metadata": {
    "colab": {
     "base_uri": "https://localhost:8080/"
    },
    "executionInfo": {
     "elapsed": 4737,
     "status": "ok",
     "timestamp": 1640308313149,
     "user": {
      "displayName": "方健炜",
      "photoUrl": "https://lh3.googleusercontent.com/a/default-user=s64",
      "userId": "04074460214244536953"
     },
     "user_tz": -480
    },
    "id": "BE0YGazLFt8R",
    "outputId": "cf00b674-e70d-4ddd-b75a-4c44e3a199ba",
    "scrolled": true
   },
   "outputs": [
    {
     "name": "stdout",
     "output_type": "stream",
     "text": [
      "Collecting loguru\n",
      "  Downloading loguru-0.5.3-py3-none-any.whl (57 kB)\n",
      "\u001b[?25l\r",
      "\u001b[K     |█████▊                          | 10 kB 27.2 MB/s eta 0:00:01\r",
      "\u001b[K     |███████████▌                    | 20 kB 28.3 MB/s eta 0:00:01\r",
      "\u001b[K     |█████████████████▏              | 30 kB 18.9 MB/s eta 0:00:01\r",
      "\u001b[K     |███████████████████████         | 40 kB 16.3 MB/s eta 0:00:01\r",
      "\u001b[K     |████████████████████████████▋   | 51 kB 5.8 MB/s eta 0:00:01\r",
      "\u001b[K     |████████████████████████████████| 57 kB 3.0 MB/s \n",
      "\u001b[?25hInstalling collected packages: loguru\n",
      "Successfully installed loguru-0.5.3\n"
     ]
    }
   ],
   "source": [
    "!pip install loguru"
   ]
  },
  {
   "cell_type": "code",
   "execution_count": null,
   "metadata": {
    "colab": {
     "base_uri": "https://localhost:8080/"
    },
    "executionInfo": {
     "elapsed": 1447671,
     "status": "ok",
     "timestamp": 1640244486656,
     "user": {
      "displayName": "方健炜",
      "photoUrl": "https://lh3.googleusercontent.com/a/default-user=s64",
      "userId": "04074460214244536953"
     },
     "user_tz": -480
    },
    "id": "1mJ3RunqF_3v",
    "outputId": "382636c4-a55b-43c4-ba0c-51c88a58a13e",
    "scrolled": true
   },
   "outputs": [
    {
     "name": "stdout",
     "output_type": "stream",
     "text": [
      "{'alpha': 0.1, 'optimizer': {'type': <class 'torch.optim.adam.Adam'>, 'optim_params': {'lr': 0.0001, 'weight_decay': 1e-05}}, 'info': '[DAMH_low0_upperbd2_lrbd8_q01_b48_AlexNet_Adam]', 'resize_size': 256, 'crop_size': 224, 'batch_size': 256, 'net': <class 'network.AlexNet'>, 'dataset': 'cifar10', 'epoch': 340, 'test_map': 5, 'save_path': 'save/[DAMH_low0_upperbd2_lrbd8_q01_b48_AlexNet_Adam]', 'device': device(type='cuda', index=0), 'bit_list': [48], 'topK': -1, 'n_class': 10, 'data_path': '/dataset/cifar10/', 'data': {'train_set': {'list_path': './data/cifar10/train.txt', 'batch_size': 256}, 'database': {'list_path': './data/cifar10/database.txt', 'batch_size': 256}, 'test': {'list_path': './data/cifar10/test.txt', 'batch_size': 256}}}\n",
      "Downloading https://www.cs.toronto.edu/~kriz/cifar-10-python.tar.gz to dataset/cifar-10-python.tar.gz\n",
      "170499072it [00:02, 63269631.48it/s]                   \n",
      "Extracting dataset/cifar-10-python.tar.gz to dataset/\n",
      "train_dataset 5000\n",
      "test_dataset 1000\n",
      "database_dataset 54000\n",
      "Downloading: \"https://download.pytorch.org/models/alexnet-owt-7be5be79.pth\" to /root/.cache/torch/hub/checkpoints/alexnet-owt-7be5be79.pth\n",
      "100% 233M/233M [00:04<00:00, 60.4MB/s]\n",
      "AlexNet(\n",
      "  (features): Sequential(\n",
      "    (0): Conv2d(3, 64, kernel_size=(11, 11), stride=(4, 4), padding=(2, 2))\n",
      "    (1): ReLU(inplace=True)\n",
      "    (2): MaxPool2d(kernel_size=3, stride=2, padding=0, dilation=1, ceil_mode=False)\n",
      "    (3): Conv2d(64, 192, kernel_size=(5, 5), stride=(1, 1), padding=(2, 2))\n",
      "    (4): ReLU(inplace=True)\n",
      "    (5): MaxPool2d(kernel_size=3, stride=2, padding=0, dilation=1, ceil_mode=False)\n",
      "    (6): Conv2d(192, 384, kernel_size=(3, 3), stride=(1, 1), padding=(1, 1))\n",
      "    (7): ReLU(inplace=True)\n",
      "    (8): Conv2d(384, 256, kernel_size=(3, 3), stride=(1, 1), padding=(1, 1))\n",
      "    (9): ReLU(inplace=True)\n",
      "    (10): Conv2d(256, 256, kernel_size=(3, 3), stride=(1, 1), padding=(1, 1))\n",
      "    (11): ReLU(inplace=True)\n",
      "    (12): MaxPool2d(kernel_size=3, stride=2, padding=0, dilation=1, ceil_mode=False)\n",
      "  )\n",
      "  (avgpool): AdaptiveAvgPool2d(output_size=(6, 6))\n",
      "  (classifier): Sequential(\n",
      "    (0): Dropout(p=0.5, inplace=False)\n",
      "    (1): Linear(in_features=9216, out_features=4096, bias=True)\n",
      "    (2): ReLU(inplace=True)\n",
      "    (3): Dropout(p=0.5, inplace=False)\n",
      "    (4): Linear(in_features=4096, out_features=4096, bias=True)\n",
      "    (5): ReLU(inplace=True)\n",
      "    (6): Linear(in_features=4096, out_features=1000, bias=True)\n",
      "  )\n",
      ")\n",
      "\u001b[32m2021-12-23 07:05:02.354\u001b[0m | \u001b[1mINFO    \u001b[0m | \u001b[36m__main__\u001b[0m:\u001b[36mtrain_val\u001b[0m:\u001b[36m165\u001b[0m - \u001b[1mepoch:0 train_loss:1.7735864162445067\u001b[0m\n",
      "[DAMH_low0_upperbd2_lrbd8_q01_b48_AlexNet_Adam][ 1/340][07:04:25] bit:48, dataset:cifar10, training....\b\b\b\b\b\b\b loss:1.774\n",
      "\u001b[32m2021-12-23 07:05:39.509\u001b[0m | \u001b[1mINFO    \u001b[0m | \u001b[36m__main__\u001b[0m:\u001b[36mtrain_val\u001b[0m:\u001b[36m165\u001b[0m - \u001b[1mepoch:1 train_loss:3.149342691898346\u001b[0m\n",
      "[DAMH_low0_upperbd2_lrbd8_q01_b48_AlexNet_Adam][ 2/340][07:05:02] bit:48, dataset:cifar10, training....\b\b\b\b\b\b\b loss:3.149\n",
      "\u001b[32m2021-12-23 07:06:16.268\u001b[0m | \u001b[1mINFO    \u001b[0m | \u001b[36m__main__\u001b[0m:\u001b[36mtrain_val\u001b[0m:\u001b[36m165\u001b[0m - \u001b[1mepoch:2 train_loss:3.83676415681839\u001b[0m\n",
      "[DAMH_low0_upperbd2_lrbd8_q01_b48_AlexNet_Adam][ 3/340][07:05:39] bit:48, dataset:cifar10, training....\b\b\b\b\b\b\b loss:3.837\n",
      "\u001b[32m2021-12-23 07:06:52.777\u001b[0m | \u001b[1mINFO    \u001b[0m | \u001b[36m__main__\u001b[0m:\u001b[36mtrain_val\u001b[0m:\u001b[36m165\u001b[0m - \u001b[1mepoch:3 train_loss:4.31691677570343\u001b[0m\n",
      "[DAMH_low0_upperbd2_lrbd8_q01_b48_AlexNet_Adam][ 4/340][07:06:16] bit:48, dataset:cifar10, training....\b\b\b\b\b\b\b loss:4.317\n",
      "\u001b[32m2021-12-23 07:07:29.603\u001b[0m | \u001b[1mINFO    \u001b[0m | \u001b[36m__main__\u001b[0m:\u001b[36mtrain_val\u001b[0m:\u001b[36m165\u001b[0m - \u001b[1mepoch:4 train_loss:4.18378221988678\u001b[0m\n",
      "[DAMH_low0_upperbd2_lrbd8_q01_b48_AlexNet_Adam][ 5/340][07:06:52] bit:48, dataset:cifar10, training....\b\b\b\b\b\b\b loss:4.184\n",
      "100% 4/4 [00:02<00:00,  1.39it/s]\n",
      "100% 211/211 [02:27<00:00,  1.43it/s]\n",
      "100% 1000/1000 [00:06<00:00, 164.24it/s]\n",
      "\u001b[32m2021-12-23 07:10:06.311\u001b[0m | \u001b[1mINFO    \u001b[0m | \u001b[36m__main__\u001b[0m:\u001b[36mtrain_val\u001b[0m:\u001b[36m177\u001b[0m - \u001b[1mepoch:4 MAP:0.6785139908342808\u001b[0m\n",
      "save in  save/[DAMH_low0_upperbd2_lrbd8_q01_b48_AlexNet_Adam]\n",
      "[DAMH_low0_upperbd2_lrbd8_q01_b48_AlexNet_Adam] epoch:5, bit:48, dataset:cifar10, MAP:0.679, Best MAP: 0.679\n",
      "\u001b[32m2021-12-23 07:10:44.860\u001b[0m | \u001b[1mINFO    \u001b[0m | \u001b[36m__main__\u001b[0m:\u001b[36mtrain_val\u001b[0m:\u001b[36m165\u001b[0m - \u001b[1mepoch:5 train_loss:4.119566082954407\u001b[0m\n",
      "[DAMH_low0_upperbd2_lrbd8_q01_b48_AlexNet_Adam][ 6/340][07:10:06] bit:48, dataset:cifar10, training....\b\b\b\b\b\b\b loss:4.120\n",
      "\u001b[32m2021-12-23 07:11:22.987\u001b[0m | \u001b[1mINFO    \u001b[0m | \u001b[36m__main__\u001b[0m:\u001b[36mtrain_val\u001b[0m:\u001b[36m165\u001b[0m - \u001b[1mepoch:6 train_loss:4.1809120893478395\u001b[0m\n",
      "[DAMH_low0_upperbd2_lrbd8_q01_b48_AlexNet_Adam][ 7/340][07:10:44] bit:48, dataset:cifar10, training....\b\b\b\b\b\b\b loss:4.181\n",
      "\u001b[32m2021-12-23 07:12:01.160\u001b[0m | \u001b[1mINFO    \u001b[0m | \u001b[36m__main__\u001b[0m:\u001b[36mtrain_val\u001b[0m:\u001b[36m165\u001b[0m - \u001b[1mepoch:7 train_loss:3.610738742351532\u001b[0m\n",
      "[DAMH_low0_upperbd2_lrbd8_q01_b48_AlexNet_Adam][ 8/340][07:11:22] bit:48, dataset:cifar10, training....\b\b\b\b\b\b\b loss:3.611\n",
      "\u001b[32m2021-12-23 07:12:38.884\u001b[0m | \u001b[1mINFO    \u001b[0m | \u001b[36m__main__\u001b[0m:\u001b[36mtrain_val\u001b[0m:\u001b[36m165\u001b[0m - \u001b[1mepoch:8 train_loss:2.9737462162971497\u001b[0m\n",
      "[DAMH_low0_upperbd2_lrbd8_q01_b48_AlexNet_Adam][ 9/340][07:12:01] bit:48, dataset:cifar10, training....\b\b\b\b\b\b\b loss:2.974\n",
      "\u001b[32m2021-12-23 07:13:16.582\u001b[0m | \u001b[1mINFO    \u001b[0m | \u001b[36m__main__\u001b[0m:\u001b[36mtrain_val\u001b[0m:\u001b[36m165\u001b[0m - \u001b[1mepoch:9 train_loss:2.331628751754761\u001b[0m\n",
      "[DAMH_low0_upperbd2_lrbd8_q01_b48_AlexNet_Adam][10/340][07:12:38] bit:48, dataset:cifar10, training....\b\b\b\b\b\b\b loss:2.332\n",
      "100% 4/4 [00:02<00:00,  1.37it/s]\n",
      "100% 211/211 [02:33<00:00,  1.38it/s]\n",
      "100% 1000/1000 [00:05<00:00, 175.22it/s]\n",
      "\u001b[32m2021-12-23 07:15:58.488\u001b[0m | \u001b[1mINFO    \u001b[0m | \u001b[36m__main__\u001b[0m:\u001b[36mtrain_val\u001b[0m:\u001b[36m177\u001b[0m - \u001b[1mepoch:9 MAP:0.7979792687415026\u001b[0m\n",
      "save in  save/[DAMH_low0_upperbd2_lrbd8_q01_b48_AlexNet_Adam]\n",
      "[DAMH_low0_upperbd2_lrbd8_q01_b48_AlexNet_Adam] epoch:10, bit:48, dataset:cifar10, MAP:0.798, Best MAP: 0.798\n",
      "\u001b[32m2021-12-23 07:16:36.266\u001b[0m | \u001b[1mINFO    \u001b[0m | \u001b[36m__main__\u001b[0m:\u001b[36mtrain_val\u001b[0m:\u001b[36m165\u001b[0m - \u001b[1mepoch:10 train_loss:2.077302122116089\u001b[0m\n",
      "[DAMH_low0_upperbd2_lrbd8_q01_b48_AlexNet_Adam][11/340][07:15:58] bit:48, dataset:cifar10, training....\b\b\b\b\b\b\b loss:2.077\n",
      "\u001b[32m2021-12-23 07:17:13.776\u001b[0m | \u001b[1mINFO    \u001b[0m | \u001b[36m__main__\u001b[0m:\u001b[36mtrain_val\u001b[0m:\u001b[36m165\u001b[0m - \u001b[1mepoch:11 train_loss:1.6879524767398835\u001b[0m\n",
      "[DAMH_low0_upperbd2_lrbd8_q01_b48_AlexNet_Adam][12/340][07:16:36] bit:48, dataset:cifar10, training....\b\b\b\b\b\b\b loss:1.688\n",
      "\u001b[32m2021-12-23 07:17:50.888\u001b[0m | \u001b[1mINFO    \u001b[0m | \u001b[36m__main__\u001b[0m:\u001b[36mtrain_val\u001b[0m:\u001b[36m165\u001b[0m - \u001b[1mepoch:12 train_loss:1.4022320002317428\u001b[0m\n",
      "[DAMH_low0_upperbd2_lrbd8_q01_b48_AlexNet_Adam][13/340][07:17:13] bit:48, dataset:cifar10, training....\b\b\b\b\b\b\b loss:1.402\n",
      "\u001b[32m2021-12-23 07:18:28.242\u001b[0m | \u001b[1mINFO    \u001b[0m | \u001b[36m__main__\u001b[0m:\u001b[36mtrain_val\u001b[0m:\u001b[36m165\u001b[0m - \u001b[1mepoch:13 train_loss:1.1074143052101135\u001b[0m\n",
      "[DAMH_low0_upperbd2_lrbd8_q01_b48_AlexNet_Adam][14/340][07:17:50] bit:48, dataset:cifar10, training....\b\b\b\b\b\b\b loss:1.107\n",
      "\u001b[32m2021-12-23 07:19:05.457\u001b[0m | \u001b[1mINFO    \u001b[0m | \u001b[36m__main__\u001b[0m:\u001b[36mtrain_val\u001b[0m:\u001b[36m165\u001b[0m - \u001b[1mepoch:14 train_loss:0.9840819358825683\u001b[0m\n",
      "[DAMH_low0_upperbd2_lrbd8_q01_b48_AlexNet_Adam][15/340][07:18:28] bit:48, dataset:cifar10, training....\b\b\b\b\b\b\b loss:0.984\n",
      "100% 4/4 [00:02<00:00,  1.39it/s]\n",
      "100% 211/211 [02:28<00:00,  1.42it/s]\n",
      "100% 1000/1000 [00:05<00:00, 180.60it/s]\n",
      "\u001b[32m2021-12-23 07:21:42.290\u001b[0m | \u001b[1mINFO    \u001b[0m | \u001b[36m__main__\u001b[0m:\u001b[36mtrain_val\u001b[0m:\u001b[36m177\u001b[0m - \u001b[1mepoch:14 MAP:0.7989188993594968\u001b[0m\n",
      "save in  save/[DAMH_low0_upperbd2_lrbd8_q01_b48_AlexNet_Adam]\n",
      "[DAMH_low0_upperbd2_lrbd8_q01_b48_AlexNet_Adam] epoch:15, bit:48, dataset:cifar10, MAP:0.799, Best MAP: 0.799\n",
      "\u001b[32m2021-12-23 07:22:19.803\u001b[0m | \u001b[1mINFO    \u001b[0m | \u001b[36m__main__\u001b[0m:\u001b[36mtrain_val\u001b[0m:\u001b[36m165\u001b[0m - \u001b[1mepoch:15 train_loss:0.9219581335783005\u001b[0m\n",
      "[DAMH_low0_upperbd2_lrbd8_q01_b48_AlexNet_Adam][16/340][07:21:42] bit:48, dataset:cifar10, training....\b\b\b\b\b\b\b loss:0.922\n",
      "\u001b[32m2021-12-23 07:22:57.200\u001b[0m | \u001b[1mINFO    \u001b[0m | \u001b[36m__main__\u001b[0m:\u001b[36mtrain_val\u001b[0m:\u001b[36m165\u001b[0m - \u001b[1mepoch:16 train_loss:0.9577284127473831\u001b[0m\n",
      "[DAMH_low0_upperbd2_lrbd8_q01_b48_AlexNet_Adam][17/340][07:22:19] bit:48, dataset:cifar10, training....\b\b\b\b\b\b\b loss:0.958\n",
      "\u001b[32m2021-12-23 07:23:34.293\u001b[0m | \u001b[1mINFO    \u001b[0m | \u001b[36m__main__\u001b[0m:\u001b[36mtrain_val\u001b[0m:\u001b[36m165\u001b[0m - \u001b[1mepoch:17 train_loss:0.6623363107442856\u001b[0m\n",
      "[DAMH_low0_upperbd2_lrbd8_q01_b48_AlexNet_Adam][18/340][07:22:57] bit:48, dataset:cifar10, training....\b\b\b\b\b\b\b loss:0.662\n",
      "\u001b[32m2021-12-23 07:24:11.237\u001b[0m | \u001b[1mINFO    \u001b[0m | \u001b[36m__main__\u001b[0m:\u001b[36mtrain_val\u001b[0m:\u001b[36m165\u001b[0m - \u001b[1mepoch:18 train_loss:0.496074602752924\u001b[0m\n",
      "[DAMH_low0_upperbd2_lrbd8_q01_b48_AlexNet_Adam][19/340][07:23:34] bit:48, dataset:cifar10, training....\b\b\b\b\b\b\b loss:0.496\n",
      "\u001b[32m2021-12-23 07:24:47.765\u001b[0m | \u001b[1mINFO    \u001b[0m | \u001b[36m__main__\u001b[0m:\u001b[36mtrain_val\u001b[0m:\u001b[36m165\u001b[0m - \u001b[1mepoch:19 train_loss:0.39882794916629793\u001b[0m\n",
      "[DAMH_low0_upperbd2_lrbd8_q01_b48_AlexNet_Adam][20/340][07:24:11] bit:48, dataset:cifar10, training....\b\b\b\b\b\b\b loss:0.399\n",
      "100% 4/4 [00:02<00:00,  1.41it/s]\n",
      "100% 211/211 [02:29<00:00,  1.41it/s]\n",
      "100% 1000/1000 [00:05<00:00, 178.20it/s]\n",
      "\u001b[32m2021-12-23 07:27:25.957\u001b[0m | \u001b[1mINFO    \u001b[0m | \u001b[36m__main__\u001b[0m:\u001b[36mtrain_val\u001b[0m:\u001b[36m177\u001b[0m - \u001b[1mepoch:19 MAP:0.804930422790851\u001b[0m\n",
      "save in  save/[DAMH_low0_upperbd2_lrbd8_q01_b48_AlexNet_Adam]\n",
      "[DAMH_low0_upperbd2_lrbd8_q01_b48_AlexNet_Adam] epoch:20, bit:48, dataset:cifar10, MAP:0.805, Best MAP: 0.805\n",
      "\u001b[32m2021-12-23 07:28:01.743\u001b[0m | \u001b[1mINFO    \u001b[0m | \u001b[36m__main__\u001b[0m:\u001b[36mtrain_val\u001b[0m:\u001b[36m165\u001b[0m - \u001b[1mepoch:20 train_loss:0.34569485783576964\u001b[0m\n",
      "[DAMH_low0_upperbd2_lrbd8_q01_b48_AlexNet_Adam][21/340][07:27:25] bit:48, dataset:cifar10, training....\b\b\b\b\b\b\b loss:0.346\n",
      "[DAMH_low0_upperbd2_lrbd8_q01_b48_AlexNet_Adam][22/340][07:28:01] bit:48, dataset:cifar10, training....Traceback (most recent call last):\n",
      "  File \"DAMH-easy-version.py\", line 194, in <module>\n",
      "    train_val(config, bit)\n",
      "  File \"DAMH-easy-version.py\", line 153, in train_val\n",
      "    for image, label, ind in train_loader:\n",
      "  File \"/usr/local/lib/python3.7/dist-packages/torch/utils/data/dataloader.py\", line 521, in __next__\n",
      "    data = self._next_data()\n",
      "  File \"/usr/local/lib/python3.7/dist-packages/torch/utils/data/dataloader.py\", line 561, in _next_data\n",
      "    data = self._dataset_fetcher.fetch(index)  # may raise StopIteration\n",
      "KeyboardInterrupt\n"
     ]
    }
   ],
   "source": [
    "!python DAMH-easy-version.py\n",
    "#cifar10"
   ]
  },
  {
   "cell_type": "code",
   "execution_count": null,
   "metadata": {
    "colab": {
     "base_uri": "https://localhost:8080/"
    },
    "executionInfo": {
     "elapsed": 125807,
     "status": "ok",
     "timestamp": 1640308503305,
     "user": {
      "displayName": "方健炜",
      "photoUrl": "https://lh3.googleusercontent.com/a/default-user=s64",
      "userId": "04074460214244536953"
     },
     "user_tz": -480
    },
    "id": "RYag4ucFMOX3",
    "outputId": "66dc0992-939d-4bc5-f67b-ddee800fc48c"
   },
   "outputs": [
    {
     "name": "stdout",
     "output_type": "stream",
     "text": [
      "/content\n",
      "Collecting kaggle==1.5.3\n",
      "  Downloading kaggle-1.5.3.tar.gz (54 kB)\n",
      "\u001b[K     |████████████████████████████████| 54 kB 2.1 MB/s \n",
      "\u001b[?25hRequirement already satisfied: urllib3<1.25,>=1.21.1 in /usr/local/lib/python3.7/dist-packages (from kaggle==1.5.3) (1.24.3)\n",
      "Requirement already satisfied: six>=1.10 in /usr/local/lib/python3.7/dist-packages (from kaggle==1.5.3) (1.15.0)\n",
      "Requirement already satisfied: certifi in /usr/local/lib/python3.7/dist-packages (from kaggle==1.5.3) (2021.10.8)\n",
      "Requirement already satisfied: python-dateutil in /usr/local/lib/python3.7/dist-packages (from kaggle==1.5.3) (2.8.2)\n",
      "Requirement already satisfied: requests in /usr/local/lib/python3.7/dist-packages (from kaggle==1.5.3) (2.23.0)\n",
      "Requirement already satisfied: tqdm in /usr/local/lib/python3.7/dist-packages (from kaggle==1.5.3) (4.62.3)\n",
      "Requirement already satisfied: python-slugify in /usr/local/lib/python3.7/dist-packages (from kaggle==1.5.3) (5.0.2)\n",
      "Requirement already satisfied: text-unidecode>=1.3 in /usr/local/lib/python3.7/dist-packages (from python-slugify->kaggle==1.5.3) (1.3)\n",
      "Requirement already satisfied: idna<3,>=2.5 in /usr/local/lib/python3.7/dist-packages (from requests->kaggle==1.5.3) (2.10)\n",
      "Requirement already satisfied: chardet<4,>=3.0.2 in /usr/local/lib/python3.7/dist-packages (from requests->kaggle==1.5.3) (3.0.4)\n",
      "Building wheels for collected packages: kaggle\n",
      "  Building wheel for kaggle (setup.py) ... \u001b[?25l\u001b[?25hdone\n",
      "  Created wheel for kaggle: filename=kaggle-1.5.3-py3-none-any.whl size=64982 sha256=d0499590a0f12894e152b3f8962b6c08125839ae95ce8e76cadade8f9d4a3674\n",
      "  Stored in directory: /root/.cache/pip/wheels/13/20/31/e5a13e4ee2689ef6c36eda58ec9c3c52cf7bbf0be24db591b0\n",
      "Successfully built kaggle\n",
      "Installing collected packages: kaggle\n",
      "  Attempting uninstall: kaggle\n",
      "    Found existing installation: kaggle 1.5.12\n",
      "    Uninstalling kaggle-1.5.12:\n",
      "      Successfully uninstalled kaggle-1.5.12\n",
      "Successfully installed kaggle-1.5.3\n",
      "Downloading nuswidetar.zip to /content\n",
      "100% 5.77G/5.77G [01:55<00:00, 33.9MB/s]\n",
      "100% 5.77G/5.77G [01:55<00:00, 53.7MB/s]\n"
     ]
    }
   ],
   "source": [
    "%cd /content\n",
    "#!pip install -U -q kaggle\n",
    "!pip install -U kaggle==1.5.3\n",
    "!mkdir -p ~/.kaggle\n",
    "!echo '{\"username\":\"  \",\"key\":\"  \"}' > ~/.kaggle/kaggle.json   #set your kaggle's name and key \n",
    "!chmod 600 ~/.kaggle/kaggle.json\n",
    "\n",
    "!kaggle datasets download -d ssaysh/nuswidetar #public\n",
    "#!kaggle datasets download -d ssaysh/nuswidejoblib  #myself\n",
    "#!kaggle datasets download -d ssaysham/imagenet-for-deephash\n"
   ]
  },
  {
   "cell_type": "code",
   "execution_count": null,
   "metadata": {},
   "outputs": [],
   "source": [
    "%cd /content\n",
    "!unzip \"/content/nuswidetar.zip\" #-d \"./\" #\"/content/drive/MyDrive/DAMH/dataset/\" #解压zip文件\n",
    "#!tar -zxvf /content/nuswide.tar.gz -C /content/drive/MyDrive/DeepHash/dataset/"
   ]
  },
  {
   "cell_type": "code",
   "execution_count": null,
   "metadata": {
    "id": "opLOVTcMq-GV"
   },
   "outputs": [],
   "source": []
  }
 ],
 "metadata": {
  "accelerator": "GPU",
  "colab": {
   "authorship_tag": "ABX9TyMYEcYTCnoIiBmmYHcA5r7x",
   "collapsed_sections": [],
   "mount_file_id": "1FHsIF-Y4uK7mQCiLFFJ5d-H5AsWXr9D8",
   "name": "Untitled0.ipynb",
   "provenance": []
  },
  "kernelspec": {
   "display_name": "Python 3",
   "language": "python",
   "name": "python3"
  },
  "language_info": {
   "codemirror_mode": {
    "name": "ipython",
    "version": 3
   },
   "file_extension": ".py",
   "mimetype": "text/x-python",
   "name": "python",
   "nbconvert_exporter": "python",
   "pygments_lexer": "ipython3",
   "version": "3.6.6"
  }
 },
 "nbformat": 4,
 "nbformat_minor": 1
}
